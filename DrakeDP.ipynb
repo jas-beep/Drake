{
 "cells": [
  {
   "cell_type": "code",
   "execution_count": 1,
   "id": "5ce14f36",
   "metadata": {},
   "outputs": [
    {
     "name": "stderr",
     "output_type": "stream",
     "text": [
      "bash: line 2: cd: /DrakeDP: No such file or directory\n"
     ]
    },
    {
     "name": "stdout",
     "output_type": "stream",
     "text": [
      "There's no requiremnts.txt, so nothing to install. This is the case with most projects.\n"
     ]
    }
   ],
   "source": [
    "%%bash\n",
    "\n",
    "cd /DrakeDP\n",
    "if test -f requirements.txt\n",
    "    then\n",
    "    sed -i '/jedi/d;/jupyter/d;' ./requirements.txt\n",
    "    pip install -r ./requirements.txt \"pyzmq<25.0.0\"\n",
    "    else echo \"There's no requiremnts.txt, so nothing to install. This is the case with most projects.\"\n",
    "fi\n"
   ]
  },
  {
   "cell_type": "code",
   "execution_count": 4,
   "id": "caf55616",
   "metadata": {},
   "outputs": [],
   "source": [
    "import numpy as np\n",
    "from pydrake.all import (\n",
    "    AddMultibodyPlantSceneGraph,\n",
    "    DiagramBuilder,\n",
    "    LinearQuadraticRegulator,\n",
    "    MeshcatVisualizer,\n",
    "    ModelVisualizer,\n",
    "    Parser,\n",
    "    Simulator,\n",
    "    StartMeshcat,\n",
    ")"
   ]
  },
  {
   "cell_type": "code",
   "execution_count": 5,
   "id": "b9990987",
   "metadata": {},
   "outputs": [
    {
     "name": "stderr",
     "output_type": "stream",
     "text": [
      "INFO:drake:Meshcat listening for connections at http://localhost:7000\n"
     ]
    }
   ],
   "source": [
    "meshcat=StartMeshcat()"
   ]
  },
  {
   "cell_type": "code",
   "execution_count": null,
   "id": "0b4c5316",
   "metadata": {},
   "outputs": [],
   "source": []
  }
 ],
 "metadata": {
  "kernelspec": {
   "display_name": "DrakeDP (3.12.3)",
   "language": "python",
   "name": "python3"
  },
  "language_info": {
   "codemirror_mode": {
    "name": "ipython",
    "version": 3
   },
   "file_extension": ".py",
   "mimetype": "text/x-python",
   "name": "python",
   "nbconvert_exporter": "python",
   "pygments_lexer": "ipython3",
   "version": "3.12.3"
  }
 },
 "nbformat": 4,
 "nbformat_minor": 5
}
